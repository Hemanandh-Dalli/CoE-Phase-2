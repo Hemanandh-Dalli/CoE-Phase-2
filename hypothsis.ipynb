{
 "cells": [
  {
   "cell_type": "code",
   "execution_count": 15,
   "id": "e5cc3d93-08c9-4200-bf26-b53b466f2641",
   "metadata": {},
   "outputs": [
    {
     "name": "stdout",
     "output_type": "stream",
     "text": [
      "A : mean=50.397 stdv=4.835\n",
      "B : mean=52.346 stdv=4.927\n"
     ]
    }
   ],
   "source": [
    "#statistics analysis\n",
    "#z -test to check whether the data is same or not\n",
    "from numpy.random import seed\n",
    "from numpy.random import randn\n",
    "from numpy import mean\n",
    "from numpy import std\n",
    "\n",
    "seed(10)\n",
    "#generating the random numbers\n",
    "A=5 * randn(100) + 50\n",
    "\n",
    "B=5 * randn(100) + 52\n",
    "\n",
    "print('A : mean=%.3f stdv=%.3f' % (mean(A), std(A)))\n",
    "print('B : mean=%.3f stdv=%.3f' % (mean(B), std(B)))"
   ]
  },
  {
   "cell_type": "code",
   "execution_count": 16,
   "id": "cfb273d1-ff40-477d-bb80-6e519d81baf5",
   "metadata": {},
   "outputs": [
    {
     "data": {
      "text/plain": [
       "array([56.65793252, 53.57639487, 42.27299854, 49.95808075, 53.10667987,\n",
       "       46.3995722 , 51.32755793, 50.54274263, 50.02145715, 49.12699895,\n",
       "       52.16513095, 56.01518687, 45.17467165, 55.14137039, 51.14315065,\n",
       "       52.22568806, 44.31698894, 50.67568439, 57.42268501, 44.60097557,\n",
       "       40.1113586 , 41.28313852, 51.33035082, 61.92483665, 55.61845627,\n",
       "       58.36311107, 50.49574608, 56.98998189, 48.64376006, 53.06602092,\n",
       "       48.66341406, 47.25345493, 50.66354148, 47.61928993, 56.5423654 ,\n",
       "       50.9750664 , 52.00104994, 48.31183831, 56.28236132, 46.34015249,\n",
       "       53.30115776, 48.24564054, 45.3028332 , 47.55331392, 45.97704429,\n",
       "       48.93651181, 48.30429877, 51.56084968, 52.82576335, 49.26289871,\n",
       "       49.87047332, 51.44547102, 47.30060464, 53.5408001 , 54.21112369,\n",
       "       51.01790399, 61.97351832, 54.58729469, 49.43863764, 48.18909776,\n",
       "       48.83908872, 47.4913555 , 55.64392577, 46.51094985, 49.59438908,\n",
       "       47.3535196 , 55.23091428, 42.90721985, 48.18750408, 49.39047154,\n",
       "       51.59678211, 52.30451451, 48.92105054, 54.94536229, 51.57376889,\n",
       "       62.33825528, 42.45839256, 53.10300332, 44.77433731, 46.00995591,\n",
       "       59.92542296, 58.72407074, 40.7190726 , 48.8861315 , 49.67076076,\n",
       "       39.34143946, 49.75584744, 51.96670609, 51.08632573, 40.02803115,\n",
       "       55.53854117, 51.22271988, 49.69043985, 46.2305352 , 53.55979508,\n",
       "       54.59134576, 47.58953431, 50.44793806, 54.13499311, 40.2274394 ])"
      ]
     },
     "execution_count": 16,
     "metadata": {},
     "output_type": "execute_result"
    }
   ],
   "source": [
    "A"
   ]
  },
  {
   "cell_type": "code",
   "execution_count": 17,
   "id": "e4f64214-b3b6-4c90-81be-1262b18e73ad",
   "metadata": {},
   "outputs": [
    {
     "data": {
      "text/plain": [
       "array([52.58737831, 42.46271556, 47.38545368, 54.34875717, 51.27816618,\n",
       "       49.99930824, 50.52008074, 56.24104305, 55.53415227, 48.06365537,\n",
       "       53.46470362, 49.64596374, 64.02162803, 48.30321631, 50.43585621,\n",
       "       50.25559041, 49.80486882, 52.70552084, 53.3652466 , 43.90714626,\n",
       "       49.13443319, 45.39776227, 58.18102663, 64.32662541, 58.91616115,\n",
       "       53.73116558, 57.11258054, 52.83405134, 60.28358312, 55.33944804,\n",
       "       50.85026678, 46.35224403, 48.80018698, 53.56915261, 45.8708201 ,\n",
       "       50.89103432, 58.69963155, 52.14654855, 61.92692873, 59.235828  ,\n",
       "       50.56185293, 45.20344713, 51.75979337, 49.5960633 , 53.88876543,\n",
       "       60.07203987, 46.38447982, 50.05636027, 53.66174975, 57.67486587,\n",
       "       54.55357206, 54.07148821, 58.72274712, 54.46757659, 50.81497908,\n",
       "       52.28642575, 48.46464276, 54.73332419, 56.71250204, 37.10201614,\n",
       "       58.09074425, 51.71739638, 54.30444226, 55.31187006, 40.52448336,\n",
       "       46.02035344, 50.33449419, 48.04304615, 53.3708639 , 49.42545039,\n",
       "       43.44464401, 55.06148656, 57.50064687, 54.82176263, 48.43600282,\n",
       "       50.69570261, 54.74214033, 55.01599525, 57.03430569, 50.52786996,\n",
       "       44.89559742, 48.60526613, 54.66942405, 55.71987202, 63.12524819,\n",
       "       52.5859071 , 53.2230726 , 51.11350589, 49.97135236, 55.90887595,\n",
       "       53.76738807, 50.96360257, 46.60151308, 51.38465086, 50.04508907,\n",
       "       58.27586866, 56.73563039, 46.88844654, 57.83584184, 49.14011593])"
      ]
     },
     "execution_count": 17,
     "metadata": {},
     "output_type": "execute_result"
    }
   ],
   "source": [
    "B"
   ]
  },
  {
   "cell_type": "code",
   "execution_count": 18,
   "id": "2a9fd6d1-b3ce-4ef6-822d-020e4028927c",
   "metadata": {},
   "outputs": [],
   "source": [
    "#statsmodels lib used for the ztest \n",
    "from statsmodels.stats.weightstats import ztest\n",
    "#H0 : both data are same\n",
    "#H1 : both are not same"
   ]
  },
  {
   "cell_type": "code",
   "execution_count": 19,
   "id": "737d9dd0-d92b-4bda-91d8-ecd4a885f638",
   "metadata": {},
   "outputs": [],
   "source": [
    "stat,p_value=ztest(A,B) #in output the second value represent the p value"
   ]
  },
  {
   "cell_type": "code",
   "execution_count": 20,
   "id": "43e58bff-3d39-4168-8523-d8ef0787ff99",
   "metadata": {},
   "outputs": [
    {
     "data": {
      "text/plain": [
       "0.004967685420845533"
      ]
     },
     "execution_count": 20,
     "metadata": {},
     "output_type": "execute_result"
    }
   ],
   "source": [
    "p_value"
   ]
  },
  {
   "cell_type": "code",
   "execution_count": 21,
   "id": "c027d5b2-b511-4ce1-8239-63d5f3bab37c",
   "metadata": {},
   "outputs": [
    {
     "name": "stdout",
     "output_type": "stream",
     "text": [
      "Reject H0\n"
     ]
    }
   ],
   "source": [
    "#significance_level =0.05\n",
    "#H0 == Both A and B are same\n",
    "#H1== both A and B are not same\n",
    "if p_value<0.05:\n",
    "    print(\"Reject H0\")\n",
    "else:\n",
    "    print(\"Accept H0\")"
   ]
  },
  {
   "cell_type": "code",
   "execution_count": 22,
   "id": "6497c75d-481b-4475-8a33-14b327b40d3b",
   "metadata": {},
   "outputs": [
    {
     "name": "stdout",
     "output_type": "stream",
     "text": [
      "Statistics=-2.809,p=0.005\n",
      "Reject H0\n"
     ]
    }
   ],
   "source": [
    "#comparison of two groups which are different\n",
    "from scipy.stats import ttest_ind\n",
    "#compare samples\n",
    "stat, p=ttest_ind(A,B)\n",
    "print('Statistics=%.3f,p=%.3f' %(stat,p))\n",
    "#interpret\n",
    "alpha=0.05\n",
    "if p_value<alpha:\n",
    "    print(\"Reject H0\")\n",
    "else:\n",
    "    print(\"Accept H0\")"
   ]
  },
  {
   "cell_type": "code",
   "execution_count": 23,
   "id": "1bac8818-d65e-4512-94b3-105f3e4ee6e9",
   "metadata": {},
   "outputs": [
    {
     "name": "stdout",
     "output_type": "stream",
     "text": [
      "Statistics=-13.736,p=0.000\n",
      "Different distribution (reject H0)\n"
     ]
    }
   ],
   "source": [
    "#paired students t-test\n",
    "from numpy.random import seed\n",
    "from numpy.random import randn\n",
    "from scipy.stats import ttest_rel\n",
    "#seed the random number generator\n",
    "seed(1)\n",
    "#generate two independent samples\n",
    "data1=5 * randn(100) + 50\n",
    "data2 = 5 * randn(100) + 58\n",
    "#compare sample \n",
    "stat,p=ttest_rel(data1,data2)\n",
    "print('Statistics=%.3f,p=%.3f' % (stat,p))\n",
    "#interpret\n",
    "alpha = 0.05\n",
    "if p>alpha:\n",
    "    print('Same distribution (Fail to reject H0)')\n",
    "else:\n",
    "    print('Different distribution (reject H0)')\n",
    "\n"
   ]
  },
  {
   "cell_type": "code",
   "execution_count": 24,
   "id": "480d3257-4ec9-4f26-8beb-8f065bec1d87",
   "metadata": {},
   "outputs": [],
   "source": [
    "#Analysis of variance test\n",
    "#the one way analaysis of variance(ANOVA) is used to determine whether there are any statistically significant distribution of three or more \n",
    "#independent (unrelated) group\n",
    "\n",
    "#H0 : all 3 distributions are same. \n",
    "#H1 : All distributions are not same."
   ]
  },
  {
   "cell_type": "code",
   "execution_count": 26,
   "id": "ee888a00-3a0a-4f9b-af0c-7cbace9d83a8",
   "metadata": {},
   "outputs": [
    {
     "name": "stdout",
     "output_type": "stream",
     "text": [
      "Statistics=10.035,p=0.000\n",
      "Different distributions(reject H0)\n"
     ]
    }
   ],
   "source": [
    "#analysis of variance test\n",
    "from numpy.random import seed\n",
    "from numpy.random import randn\n",
    "from scipy.stats import f_oneway\n",
    "#generate the random number generator\n",
    "seed(1)\n",
    "#generate 3 different independent samples\n",
    "data1=5 * randn(100) + 50\n",
    "data2 = 5 * randn(100) + 52\n",
    "data3=5 * randn(100) + 50\n",
    "#compare samples\n",
    "stat,p= f_oneway(data1,data2,data3)\n",
    "print('Statistics=%.3f,p=%.3f' % (stat,p))\n",
    "#interpret\n",
    "alpha=0.05\n",
    "if p>alpha:\n",
    "    print(\"Same Distribution(fail to Reject H0)\")\n",
    "else:\n",
    "    print(\"Different distributions(reject H0)\")\n",
    "    "
   ]
  },
  {
   "cell_type": "code",
   "execution_count": null,
   "id": "3a3c5c49-41ba-4d66-87a6-8614978bb122",
   "metadata": {},
   "outputs": [],
   "source": [
    "'''Chi square test for categorical features\n",
    "\n",
    "chi-square test used for categorical features in dataset. we calculate chi-squared between each feature and\n",
    "desired number of features with best chi-square scores. it determines if the association between two categories\n",
    "would reflect their real association in the population'''"
   ]
  },
  {
   "cell_type": "code",
   "execution_count": 31,
   "id": "607ed866-0c91-498c-8f88-54d77d895ad8",
   "metadata": {},
   "outputs": [
    {
     "name": "stdout",
     "output_type": "stream",
     "text": [
      "Original feature number: 4\n",
      "Reduced feature number: 2\n"
     ]
    }
   ],
   "source": [
    "#load libraries\n",
    "\n",
    "from sklearn.datasets import load_iris\n",
    "from sklearn.feature_selection import SelectKBest\n",
    "from sklearn.feature_selection import chi2\n",
    "\n",
    "#load iris data\n",
    "iris_dataset = load_iris()\n",
    "#create features and target\n",
    "X = iris_dataset.data\n",
    "y = iris_dataset.target\n",
    "\n",
    "#convert to categorical data by converting data to integers\n",
    "X=X.astype(int)\n",
    "\n",
    "#two features with highest chi-squared statistics are selected\n",
    "chi2_features = SelectKBest(chi2, k=2)\n",
    "X_kbest_features = chi2_features.fit_transform(X,y)\n",
    "\n",
    "#reduced features\n",
    "print('Original feature number:', X.shape[1])\n",
    "print('Reduced feature number:',X_kbest_features.shape[1])\n"
   ]
  },
  {
   "cell_type": "code",
   "execution_count": 32,
   "id": "046f2785-7136-491d-a564-8b3e5ee3ff26",
   "metadata": {},
   "outputs": [
    {
     "data": {
      "text/plain": [
       "{'data': array([[5.1, 3.5, 1.4, 0.2],\n",
       "        [4.9, 3. , 1.4, 0.2],\n",
       "        [4.7, 3.2, 1.3, 0.2],\n",
       "        [4.6, 3.1, 1.5, 0.2],\n",
       "        [5. , 3.6, 1.4, 0.2],\n",
       "        [5.4, 3.9, 1.7, 0.4],\n",
       "        [4.6, 3.4, 1.4, 0.3],\n",
       "        [5. , 3.4, 1.5, 0.2],\n",
       "        [4.4, 2.9, 1.4, 0.2],\n",
       "        [4.9, 3.1, 1.5, 0.1],\n",
       "        [5.4, 3.7, 1.5, 0.2],\n",
       "        [4.8, 3.4, 1.6, 0.2],\n",
       "        [4.8, 3. , 1.4, 0.1],\n",
       "        [4.3, 3. , 1.1, 0.1],\n",
       "        [5.8, 4. , 1.2, 0.2],\n",
       "        [5.7, 4.4, 1.5, 0.4],\n",
       "        [5.4, 3.9, 1.3, 0.4],\n",
       "        [5.1, 3.5, 1.4, 0.3],\n",
       "        [5.7, 3.8, 1.7, 0.3],\n",
       "        [5.1, 3.8, 1.5, 0.3],\n",
       "        [5.4, 3.4, 1.7, 0.2],\n",
       "        [5.1, 3.7, 1.5, 0.4],\n",
       "        [4.6, 3.6, 1. , 0.2],\n",
       "        [5.1, 3.3, 1.7, 0.5],\n",
       "        [4.8, 3.4, 1.9, 0.2],\n",
       "        [5. , 3. , 1.6, 0.2],\n",
       "        [5. , 3.4, 1.6, 0.4],\n",
       "        [5.2, 3.5, 1.5, 0.2],\n",
       "        [5.2, 3.4, 1.4, 0.2],\n",
       "        [4.7, 3.2, 1.6, 0.2],\n",
       "        [4.8, 3.1, 1.6, 0.2],\n",
       "        [5.4, 3.4, 1.5, 0.4],\n",
       "        [5.2, 4.1, 1.5, 0.1],\n",
       "        [5.5, 4.2, 1.4, 0.2],\n",
       "        [4.9, 3.1, 1.5, 0.2],\n",
       "        [5. , 3.2, 1.2, 0.2],\n",
       "        [5.5, 3.5, 1.3, 0.2],\n",
       "        [4.9, 3.6, 1.4, 0.1],\n",
       "        [4.4, 3. , 1.3, 0.2],\n",
       "        [5.1, 3.4, 1.5, 0.2],\n",
       "        [5. , 3.5, 1.3, 0.3],\n",
       "        [4.5, 2.3, 1.3, 0.3],\n",
       "        [4.4, 3.2, 1.3, 0.2],\n",
       "        [5. , 3.5, 1.6, 0.6],\n",
       "        [5.1, 3.8, 1.9, 0.4],\n",
       "        [4.8, 3. , 1.4, 0.3],\n",
       "        [5.1, 3.8, 1.6, 0.2],\n",
       "        [4.6, 3.2, 1.4, 0.2],\n",
       "        [5.3, 3.7, 1.5, 0.2],\n",
       "        [5. , 3.3, 1.4, 0.2],\n",
       "        [7. , 3.2, 4.7, 1.4],\n",
       "        [6.4, 3.2, 4.5, 1.5],\n",
       "        [6.9, 3.1, 4.9, 1.5],\n",
       "        [5.5, 2.3, 4. , 1.3],\n",
       "        [6.5, 2.8, 4.6, 1.5],\n",
       "        [5.7, 2.8, 4.5, 1.3],\n",
       "        [6.3, 3.3, 4.7, 1.6],\n",
       "        [4.9, 2.4, 3.3, 1. ],\n",
       "        [6.6, 2.9, 4.6, 1.3],\n",
       "        [5.2, 2.7, 3.9, 1.4],\n",
       "        [5. , 2. , 3.5, 1. ],\n",
       "        [5.9, 3. , 4.2, 1.5],\n",
       "        [6. , 2.2, 4. , 1. ],\n",
       "        [6.1, 2.9, 4.7, 1.4],\n",
       "        [5.6, 2.9, 3.6, 1.3],\n",
       "        [6.7, 3.1, 4.4, 1.4],\n",
       "        [5.6, 3. , 4.5, 1.5],\n",
       "        [5.8, 2.7, 4.1, 1. ],\n",
       "        [6.2, 2.2, 4.5, 1.5],\n",
       "        [5.6, 2.5, 3.9, 1.1],\n",
       "        [5.9, 3.2, 4.8, 1.8],\n",
       "        [6.1, 2.8, 4. , 1.3],\n",
       "        [6.3, 2.5, 4.9, 1.5],\n",
       "        [6.1, 2.8, 4.7, 1.2],\n",
       "        [6.4, 2.9, 4.3, 1.3],\n",
       "        [6.6, 3. , 4.4, 1.4],\n",
       "        [6.8, 2.8, 4.8, 1.4],\n",
       "        [6.7, 3. , 5. , 1.7],\n",
       "        [6. , 2.9, 4.5, 1.5],\n",
       "        [5.7, 2.6, 3.5, 1. ],\n",
       "        [5.5, 2.4, 3.8, 1.1],\n",
       "        [5.5, 2.4, 3.7, 1. ],\n",
       "        [5.8, 2.7, 3.9, 1.2],\n",
       "        [6. , 2.7, 5.1, 1.6],\n",
       "        [5.4, 3. , 4.5, 1.5],\n",
       "        [6. , 3.4, 4.5, 1.6],\n",
       "        [6.7, 3.1, 4.7, 1.5],\n",
       "        [6.3, 2.3, 4.4, 1.3],\n",
       "        [5.6, 3. , 4.1, 1.3],\n",
       "        [5.5, 2.5, 4. , 1.3],\n",
       "        [5.5, 2.6, 4.4, 1.2],\n",
       "        [6.1, 3. , 4.6, 1.4],\n",
       "        [5.8, 2.6, 4. , 1.2],\n",
       "        [5. , 2.3, 3.3, 1. ],\n",
       "        [5.6, 2.7, 4.2, 1.3],\n",
       "        [5.7, 3. , 4.2, 1.2],\n",
       "        [5.7, 2.9, 4.2, 1.3],\n",
       "        [6.2, 2.9, 4.3, 1.3],\n",
       "        [5.1, 2.5, 3. , 1.1],\n",
       "        [5.7, 2.8, 4.1, 1.3],\n",
       "        [6.3, 3.3, 6. , 2.5],\n",
       "        [5.8, 2.7, 5.1, 1.9],\n",
       "        [7.1, 3. , 5.9, 2.1],\n",
       "        [6.3, 2.9, 5.6, 1.8],\n",
       "        [6.5, 3. , 5.8, 2.2],\n",
       "        [7.6, 3. , 6.6, 2.1],\n",
       "        [4.9, 2.5, 4.5, 1.7],\n",
       "        [7.3, 2.9, 6.3, 1.8],\n",
       "        [6.7, 2.5, 5.8, 1.8],\n",
       "        [7.2, 3.6, 6.1, 2.5],\n",
       "        [6.5, 3.2, 5.1, 2. ],\n",
       "        [6.4, 2.7, 5.3, 1.9],\n",
       "        [6.8, 3. , 5.5, 2.1],\n",
       "        [5.7, 2.5, 5. , 2. ],\n",
       "        [5.8, 2.8, 5.1, 2.4],\n",
       "        [6.4, 3.2, 5.3, 2.3],\n",
       "        [6.5, 3. , 5.5, 1.8],\n",
       "        [7.7, 3.8, 6.7, 2.2],\n",
       "        [7.7, 2.6, 6.9, 2.3],\n",
       "        [6. , 2.2, 5. , 1.5],\n",
       "        [6.9, 3.2, 5.7, 2.3],\n",
       "        [5.6, 2.8, 4.9, 2. ],\n",
       "        [7.7, 2.8, 6.7, 2. ],\n",
       "        [6.3, 2.7, 4.9, 1.8],\n",
       "        [6.7, 3.3, 5.7, 2.1],\n",
       "        [7.2, 3.2, 6. , 1.8],\n",
       "        [6.2, 2.8, 4.8, 1.8],\n",
       "        [6.1, 3. , 4.9, 1.8],\n",
       "        [6.4, 2.8, 5.6, 2.1],\n",
       "        [7.2, 3. , 5.8, 1.6],\n",
       "        [7.4, 2.8, 6.1, 1.9],\n",
       "        [7.9, 3.8, 6.4, 2. ],\n",
       "        [6.4, 2.8, 5.6, 2.2],\n",
       "        [6.3, 2.8, 5.1, 1.5],\n",
       "        [6.1, 2.6, 5.6, 1.4],\n",
       "        [7.7, 3. , 6.1, 2.3],\n",
       "        [6.3, 3.4, 5.6, 2.4],\n",
       "        [6.4, 3.1, 5.5, 1.8],\n",
       "        [6. , 3. , 4.8, 1.8],\n",
       "        [6.9, 3.1, 5.4, 2.1],\n",
       "        [6.7, 3.1, 5.6, 2.4],\n",
       "        [6.9, 3.1, 5.1, 2.3],\n",
       "        [5.8, 2.7, 5.1, 1.9],\n",
       "        [6.8, 3.2, 5.9, 2.3],\n",
       "        [6.7, 3.3, 5.7, 2.5],\n",
       "        [6.7, 3. , 5.2, 2.3],\n",
       "        [6.3, 2.5, 5. , 1.9],\n",
       "        [6.5, 3. , 5.2, 2. ],\n",
       "        [6.2, 3.4, 5.4, 2.3],\n",
       "        [5.9, 3. , 5.1, 1.8]]),\n",
       " 'target': array([0, 0, 0, 0, 0, 0, 0, 0, 0, 0, 0, 0, 0, 0, 0, 0, 0, 0, 0, 0, 0, 0,\n",
       "        0, 0, 0, 0, 0, 0, 0, 0, 0, 0, 0, 0, 0, 0, 0, 0, 0, 0, 0, 0, 0, 0,\n",
       "        0, 0, 0, 0, 0, 0, 1, 1, 1, 1, 1, 1, 1, 1, 1, 1, 1, 1, 1, 1, 1, 1,\n",
       "        1, 1, 1, 1, 1, 1, 1, 1, 1, 1, 1, 1, 1, 1, 1, 1, 1, 1, 1, 1, 1, 1,\n",
       "        1, 1, 1, 1, 1, 1, 1, 1, 1, 1, 1, 1, 2, 2, 2, 2, 2, 2, 2, 2, 2, 2,\n",
       "        2, 2, 2, 2, 2, 2, 2, 2, 2, 2, 2, 2, 2, 2, 2, 2, 2, 2, 2, 2, 2, 2,\n",
       "        2, 2, 2, 2, 2, 2, 2, 2, 2, 2, 2, 2, 2, 2, 2, 2, 2, 2]),\n",
       " 'frame': None,\n",
       " 'target_names': array(['setosa', 'versicolor', 'virginica'], dtype='<U10'),\n",
       " 'DESCR': '.. _iris_dataset:\\n\\nIris plants dataset\\n--------------------\\n\\n**Data Set Characteristics:**\\n\\n:Number of Instances: 150 (50 in each of three classes)\\n:Number of Attributes: 4 numeric, predictive attributes and the class\\n:Attribute Information:\\n    - sepal length in cm\\n    - sepal width in cm\\n    - petal length in cm\\n    - petal width in cm\\n    - class:\\n            - Iris-Setosa\\n            - Iris-Versicolour\\n            - Iris-Virginica\\n\\n:Summary Statistics:\\n\\n============== ==== ==== ======= ===== ====================\\n                Min  Max   Mean    SD   Class Correlation\\n============== ==== ==== ======= ===== ====================\\nsepal length:   4.3  7.9   5.84   0.83    0.7826\\nsepal width:    2.0  4.4   3.05   0.43   -0.4194\\npetal length:   1.0  6.9   3.76   1.76    0.9490  (high!)\\npetal width:    0.1  2.5   1.20   0.76    0.9565  (high!)\\n============== ==== ==== ======= ===== ====================\\n\\n:Missing Attribute Values: None\\n:Class Distribution: 33.3% for each of 3 classes.\\n:Creator: R.A. Fisher\\n:Donor: Michael Marshall (MARSHALL%PLU@io.arc.nasa.gov)\\n:Date: July, 1988\\n\\nThe famous Iris database, first used by Sir R.A. Fisher. The dataset is taken\\nfrom Fisher\\'s paper. Note that it\\'s the same as in R, but not as in the UCI\\nMachine Learning Repository, which has two wrong data points.\\n\\nThis is perhaps the best known database to be found in the\\npattern recognition literature.  Fisher\\'s paper is a classic in the field and\\nis referenced frequently to this day.  (See Duda & Hart, for example.)  The\\ndata set contains 3 classes of 50 instances each, where each class refers to a\\ntype of iris plant.  One class is linearly separable from the other 2; the\\nlatter are NOT linearly separable from each other.\\n\\n|details-start|\\n**References**\\n|details-split|\\n\\n- Fisher, R.A. \"The use of multiple measurements in taxonomic problems\"\\n  Annual Eugenics, 7, Part II, 179-188 (1936); also in \"Contributions to\\n  Mathematical Statistics\" (John Wiley, NY, 1950).\\n- Duda, R.O., & Hart, P.E. (1973) Pattern Classification and Scene Analysis.\\n  (Q327.D83) John Wiley & Sons.  ISBN 0-471-22361-1.  See page 218.\\n- Dasarathy, B.V. (1980) \"Nosing Around the Neighborhood: A New System\\n  Structure and Classification Rule for Recognition in Partially Exposed\\n  Environments\".  IEEE Transactions on Pattern Analysis and Machine\\n  Intelligence, Vol. PAMI-2, No. 1, 67-71.\\n- Gates, G.W. (1972) \"The Reduced Nearest Neighbor Rule\".  IEEE Transactions\\n  on Information Theory, May 1972, 431-433.\\n- See also: 1988 MLC Proceedings, 54-64.  Cheeseman et al\"s AUTOCLASS II\\n  conceptual clustering system finds 3 classes in the data.\\n- Many, many more ...\\n\\n|details-end|\\n',\n",
       " 'feature_names': ['sepal length (cm)',\n",
       "  'sepal width (cm)',\n",
       "  'petal length (cm)',\n",
       "  'petal width (cm)'],\n",
       " 'filename': 'iris.csv',\n",
       " 'data_module': 'sklearn.datasets.data'}"
      ]
     },
     "execution_count": 32,
     "metadata": {},
     "output_type": "execute_result"
    }
   ],
   "source": [
    "iris_dataset"
   ]
  },
  {
   "cell_type": "code",
   "execution_count": 33,
   "id": "98b16b2f-402c-44bd-b0a7-7b7d5951364b",
   "metadata": {},
   "outputs": [
    {
     "data": {
      "text/plain": [
       "(150, 2)"
      ]
     },
     "execution_count": 33,
     "metadata": {},
     "output_type": "execute_result"
    }
   ],
   "source": [
    "X_kbest_features.shape"
   ]
  },
  {
   "cell_type": "code",
   "execution_count": 34,
   "id": "0205c024-d62d-46df-a07f-e6047b5b3c71",
   "metadata": {},
   "outputs": [
    {
     "data": {
      "text/plain": [
       "array([[1, 0],\n",
       "       [1, 0],\n",
       "       [1, 0],\n",
       "       [1, 0],\n",
       "       [1, 0],\n",
       "       [1, 0],\n",
       "       [1, 0],\n",
       "       [1, 0],\n",
       "       [1, 0],\n",
       "       [1, 0],\n",
       "       [1, 0],\n",
       "       [1, 0],\n",
       "       [1, 0],\n",
       "       [1, 0],\n",
       "       [1, 0],\n",
       "       [1, 0],\n",
       "       [1, 0],\n",
       "       [1, 0],\n",
       "       [1, 0],\n",
       "       [1, 0],\n",
       "       [1, 0],\n",
       "       [1, 0],\n",
       "       [1, 0],\n",
       "       [1, 0],\n",
       "       [1, 0],\n",
       "       [1, 0],\n",
       "       [1, 0],\n",
       "       [1, 0],\n",
       "       [1, 0],\n",
       "       [1, 0],\n",
       "       [1, 0],\n",
       "       [1, 0],\n",
       "       [1, 0],\n",
       "       [1, 0],\n",
       "       [1, 0],\n",
       "       [1, 0],\n",
       "       [1, 0],\n",
       "       [1, 0],\n",
       "       [1, 0],\n",
       "       [1, 0],\n",
       "       [1, 0],\n",
       "       [1, 0],\n",
       "       [1, 0],\n",
       "       [1, 0],\n",
       "       [1, 0],\n",
       "       [1, 0],\n",
       "       [1, 0],\n",
       "       [1, 0],\n",
       "       [1, 0],\n",
       "       [1, 0],\n",
       "       [4, 1],\n",
       "       [4, 1],\n",
       "       [4, 1],\n",
       "       [4, 1],\n",
       "       [4, 1],\n",
       "       [4, 1],\n",
       "       [4, 1],\n",
       "       [3, 1],\n",
       "       [4, 1],\n",
       "       [3, 1],\n",
       "       [3, 1],\n",
       "       [4, 1],\n",
       "       [4, 1],\n",
       "       [4, 1],\n",
       "       [3, 1],\n",
       "       [4, 1],\n",
       "       [4, 1],\n",
       "       [4, 1],\n",
       "       [4, 1],\n",
       "       [3, 1],\n",
       "       [4, 1],\n",
       "       [4, 1],\n",
       "       [4, 1],\n",
       "       [4, 1],\n",
       "       [4, 1],\n",
       "       [4, 1],\n",
       "       [4, 1],\n",
       "       [5, 1],\n",
       "       [4, 1],\n",
       "       [3, 1],\n",
       "       [3, 1],\n",
       "       [3, 1],\n",
       "       [3, 1],\n",
       "       [5, 1],\n",
       "       [4, 1],\n",
       "       [4, 1],\n",
       "       [4, 1],\n",
       "       [4, 1],\n",
       "       [4, 1],\n",
       "       [4, 1],\n",
       "       [4, 1],\n",
       "       [4, 1],\n",
       "       [4, 1],\n",
       "       [3, 1],\n",
       "       [4, 1],\n",
       "       [4, 1],\n",
       "       [4, 1],\n",
       "       [4, 1],\n",
       "       [3, 1],\n",
       "       [4, 1],\n",
       "       [6, 2],\n",
       "       [5, 1],\n",
       "       [5, 2],\n",
       "       [5, 1],\n",
       "       [5, 2],\n",
       "       [6, 2],\n",
       "       [4, 1],\n",
       "       [6, 1],\n",
       "       [5, 1],\n",
       "       [6, 2],\n",
       "       [5, 2],\n",
       "       [5, 1],\n",
       "       [5, 2],\n",
       "       [5, 2],\n",
       "       [5, 2],\n",
       "       [5, 2],\n",
       "       [5, 1],\n",
       "       [6, 2],\n",
       "       [6, 2],\n",
       "       [5, 1],\n",
       "       [5, 2],\n",
       "       [4, 2],\n",
       "       [6, 2],\n",
       "       [4, 1],\n",
       "       [5, 2],\n",
       "       [6, 1],\n",
       "       [4, 1],\n",
       "       [4, 1],\n",
       "       [5, 2],\n",
       "       [5, 1],\n",
       "       [6, 1],\n",
       "       [6, 2],\n",
       "       [5, 2],\n",
       "       [5, 1],\n",
       "       [5, 1],\n",
       "       [6, 2],\n",
       "       [5, 2],\n",
       "       [5, 1],\n",
       "       [4, 1],\n",
       "       [5, 2],\n",
       "       [5, 2],\n",
       "       [5, 2],\n",
       "       [5, 1],\n",
       "       [5, 2],\n",
       "       [5, 2],\n",
       "       [5, 2],\n",
       "       [5, 1],\n",
       "       [5, 2],\n",
       "       [5, 2],\n",
       "       [5, 1]])"
      ]
     },
     "execution_count": 34,
     "metadata": {},
     "output_type": "execute_result"
    }
   ],
   "source": [
    "X_kbest_features"
   ]
  },
  {
   "cell_type": "code",
   "execution_count": null,
   "id": "dac0e59a-81e3-4b6c-9b5b-e6d8ea0db5b7",
   "metadata": {},
   "outputs": [],
   "source": []
  }
 ],
 "metadata": {
  "kernelspec": {
   "display_name": "Python 3 (ipykernel)",
   "language": "python",
   "name": "python3"
  },
  "language_info": {
   "codemirror_mode": {
    "name": "ipython",
    "version": 3
   },
   "file_extension": ".py",
   "mimetype": "text/x-python",
   "name": "python",
   "nbconvert_exporter": "python",
   "pygments_lexer": "ipython3",
   "version": "3.12.4"
  }
 },
 "nbformat": 4,
 "nbformat_minor": 5
}
