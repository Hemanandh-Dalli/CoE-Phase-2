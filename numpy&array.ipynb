{
 "cells": [
  {
   "cell_type": "code",
   "execution_count": 1,
   "id": "5fe70f58-c5f5-47ac-98fc-d713cec5e213",
   "metadata": {},
   "outputs": [],
   "source": [
    "#data analysis"
   ]
  },
  {
   "cell_type": "code",
   "execution_count": 3,
   "id": "6004b372-853d-4ec4-b614-e1ca8fbbae72",
   "metadata": {},
   "outputs": [
    {
     "name": "stdout",
     "output_type": "stream",
     "text": [
      "Requirement already satisfied: numpy in c:\\users\\heman\\anaconda3\\lib\\site-packages (1.26.4)\n",
      "Note: you may need to restart the kernel to use updated packages.\n"
     ]
    }
   ],
   "source": [
    "pip install numpy"
   ]
  },
  {
   "cell_type": "code",
   "execution_count": 4,
   "id": "72245a20-b064-4a0b-b902-9fdba75a9a7b",
   "metadata": {},
   "outputs": [],
   "source": [
    "import numpy as np"
   ]
  },
  {
   "cell_type": "code",
   "execution_count": 5,
   "id": "7bfc141f-7f06-4f26-bf8d-a4cfb10dd993",
   "metadata": {},
   "outputs": [
    {
     "data": {
      "text/plain": [
       "array([1, 2, 3])"
      ]
     },
     "execution_count": 5,
     "metadata": {},
     "output_type": "execute_result"
    }
   ],
   "source": [
    "arr_1d = np.array([1,2,3])\n",
    "arr_1d"
   ]
  },
  {
   "cell_type": "code",
   "execution_count": 6,
   "id": "c7aac013-ccb4-4ba2-a563-cf3232c3bcdb",
   "metadata": {},
   "outputs": [
    {
     "data": {
      "text/plain": [
       "array([[1, 2, 3],\n",
       "       [4, 5, 6]])"
      ]
     },
     "execution_count": 6,
     "metadata": {},
     "output_type": "execute_result"
    }
   ],
   "source": [
    "arr_2d = np.array([[1,2,3],[4,5,6]])\n",
    "arr_2d"
   ]
  },
  {
   "cell_type": "code",
   "execution_count": 7,
   "id": "093332b3-4afa-410d-bfa0-fa564edc5106",
   "metadata": {},
   "outputs": [
    {
     "data": {
      "text/plain": [
       "array([[1, 2, 3],\n",
       "       [4, 5, 6],\n",
       "       [7, 8, 9]])"
      ]
     },
     "execution_count": 7,
     "metadata": {},
     "output_type": "execute_result"
    }
   ],
   "source": [
    "arr_3d = np.array([[1,2,3],[4,5,6],[7,8,9]])\n",
    "arr_3d"
   ]
  },
  {
   "cell_type": "code",
   "execution_count": 8,
   "id": "b56ac2d7-445e-43dc-9e01-1ffe7cacf823",
   "metadata": {},
   "outputs": [
    {
     "data": {
      "text/plain": [
       "array([[0., 0., 0.],\n",
       "       [0., 0., 0.],\n",
       "       [0., 0., 0.]])"
      ]
     },
     "execution_count": 8,
     "metadata": {},
     "output_type": "execute_result"
    }
   ],
   "source": [
    "zeros=np.zeros((3,3))#zeros() used print 0\n",
    "zeros"
   ]
  },
  {
   "cell_type": "code",
   "execution_count": 9,
   "id": "e596ba70-ddb5-46d8-b85a-f7490e5ec77c",
   "metadata": {},
   "outputs": [
    {
     "data": {
      "text/plain": [
       "array([[1., 1., 1., 1.],\n",
       "       [1., 1., 1., 1.],\n",
       "       [1., 1., 1., 1.],\n",
       "       [1., 1., 1., 1.]])"
      ]
     },
     "execution_count": 9,
     "metadata": {},
     "output_type": "execute_result"
    }
   ],
   "source": [
    "ones=np.ones((4,4))#ones for print 1\n",
    "ones"
   ]
  },
  {
   "cell_type": "code",
   "execution_count": 10,
   "id": "4e64132e-e06c-4bfc-8d6e-bd1a7d932100",
   "metadata": {},
   "outputs": [
    {
     "data": {
      "text/plain": [
       "array([[0.11985977, 0.92139532],\n",
       "       [0.22310206, 0.17919386]])"
      ]
     },
     "execution_count": 10,
     "metadata": {},
     "output_type": "execute_result"
    }
   ],
   "source": [
    "random_arr = np.random.random((2,2))#random numbers \n",
    "random_arr"
   ]
  },
  {
   "cell_type": "code",
   "execution_count": 11,
   "id": "d6305649-f98a-4bf0-a6ec-ea937fec99a6",
   "metadata": {},
   "outputs": [
    {
     "data": {
      "text/plain": [
       "array([[1., 0., 0.],\n",
       "       [0., 1., 0.],\n",
       "       [0., 0., 1.]])"
      ]
     },
     "execution_count": 11,
     "metadata": {},
     "output_type": "execute_result"
    }
   ],
   "source": [
    "#identity matrix\n",
    "identity = np.eye(3)\n",
    "identity"
   ]
  },
  {
   "cell_type": "code",
   "execution_count": 12,
   "id": "1b2394e0-7695-45c7-b7d8-de5d3b118085",
   "metadata": {},
   "outputs": [
    {
     "data": {
      "text/plain": [
       "array([0, 2, 4, 6, 8])"
      ]
     },
     "execution_count": 12,
     "metadata": {},
     "output_type": "execute_result"
    }
   ],
   "source": [
    "range_arr= np.arange(0,10,2) #start,stop,step\n",
    "range_arr"
   ]
  },
  {
   "cell_type": "code",
   "execution_count": 13,
   "id": "1f40a872-399d-48ff-bde2-43825b06e779",
   "metadata": {},
   "outputs": [],
   "source": [
    "#ARRAY ATTRIBUTES\n"
   ]
  },
  {
   "cell_type": "code",
   "execution_count": 14,
   "id": "c737bad0-6eac-4d01-9db6-73ec94d45fb0",
   "metadata": {},
   "outputs": [
    {
     "name": "stdout",
     "output_type": "stream",
     "text": [
      "Shape :  (2, 3)\n",
      "Size :  6\n",
      "Data type: int32\n",
      "Number of dimensions :  2\n"
     ]
    }
   ],
   "source": [
    "aar=np.array([[1,2,3],[4,5,6]])\n",
    "print(\"Shape : \",aar.shape)#rows and col\n",
    "print(\"Size : \",aar.size)#no of elements\n",
    "print(\"Data type:\", aar.dtype)#define datatype\n",
    "print(\"Number of dimensions : \",aar.ndim)#dimensions"
   ]
  },
  {
   "cell_type": "code",
   "execution_count": 15,
   "id": "3a19d422-e809-45f5-9832-1dcbb94d988e",
   "metadata": {},
   "outputs": [
    {
     "name": "stdout",
     "output_type": "stream",
     "text": [
      "[[2 3]\n",
      " [5 6]]\n"
     ]
    }
   ],
   "source": [
    "print(aar[:,1:])\n"
   ]
  },
  {
   "cell_type": "code",
   "execution_count": 16,
   "id": "6731b208-572d-4897-b58b-bd62dd265544",
   "metadata": {},
   "outputs": [
    {
     "name": "stdout",
     "output_type": "stream",
     "text": [
      "6 8 10 12 "
     ]
    }
   ],
   "source": [
    "#adding elements in list\n",
    "a=[1,2,3,4]\n",
    "b=[5,6,7,8]\n",
    "for i in range (len(a)):\n",
    "        print(a[i]+b[i],end = \" \")"
   ]
  },
  {
   "cell_type": "code",
   "execution_count": 17,
   "id": "cda76f04-7cc8-4b89-abdb-27d53d4f023c",
   "metadata": {},
   "outputs": [
    {
     "name": "stdout",
     "output_type": "stream",
     "text": [
      "[5 7 9]\n",
      "[ 4 10 18]\n",
      "[2 4 6]\n"
     ]
    }
   ],
   "source": [
    "#ARRAY OPERATORS\n",
    "a1=np.array([1,2,3])\n",
    "a2=np.array([4,5,6])\n",
    "print(a1+a2)\n",
    "print(a1*a2)\n",
    "print(a1*2)#scaler operation"
   ]
  },
  {
   "cell_type": "code",
   "execution_count": 18,
   "id": "91045f02-e3e2-4f6f-88b7-5cf1939799a5",
   "metadata": {},
   "outputs": [
    {
     "data": {
      "text/plain": [
       "array([[19, 22],\n",
       "       [43, 50]])"
      ]
     },
     "execution_count": 18,
     "metadata": {},
     "output_type": "execute_result"
    }
   ],
   "source": [
    "#MATRIX MULTIPLICATION\n",
    "mat1=np.array([[1,2],[3,4]])\n",
    "mat2=np.array([[5,6],[7,8]])\n",
    "result= np.dot(mat1,mat2)\n",
    "result"
   ]
  },
  {
   "cell_type": "code",
   "execution_count": 19,
   "id": "efe24913-d11f-41e7-ac77-1eb1e3c614a9",
   "metadata": {},
   "outputs": [
    {
     "name": "stdout",
     "output_type": "stream",
     "text": [
      "[3 4 5]\n"
     ]
    }
   ],
   "source": [
    "#BROADCASTING\n",
    "aa= np.array([1,2,3])\n",
    "bb=2\n",
    "print(aa+bb)"
   ]
  },
  {
   "cell_type": "code",
   "execution_count": 20,
   "id": "776735a7-802d-4dbe-91d5-baab1cfbd88c",
   "metadata": {},
   "outputs": [
    {
     "name": "stdout",
     "output_type": "stream",
     "text": [
      "[ 2.71828183  7.3890561  20.08553692]\n",
      "[1.         1.41421356 1.73205081]\n",
      "[0.         0.69314718 1.09861229]\n"
     ]
    }
   ],
   "source": [
    "#UNIVERSAL FUNCS(ufuncs)\n",
    "arr=np.array([1,2,3])\n",
    "#exponentiation\n",
    "print(np.exp(arr))\n",
    "#square root\n",
    "print(np.sqrt(arr))\n",
    "#logarithm\n",
    "print(np.log(arr))"
   ]
  },
  {
   "cell_type": "code",
   "execution_count": 21,
   "id": "7a3c87a8-4159-4537-8745-0eff9bdc66fc",
   "metadata": {},
   "outputs": [
    {
     "name": "stdout",
     "output_type": "stream",
     "text": [
      "Sum: 6\n",
      "Mean: 2.0\n",
      "Standrad Deviation: 0.816496580927726\n",
      "Maximum: 3\n",
      "Minimum: 1\n"
     ]
    }
   ],
   "source": [
    "#AGGREGATION FUNCS\n",
    "print(\"Sum:\",np.sum(arr))\n",
    "print(\"Mean:\",np.mean(arr))\n",
    "print(\"Standrad Deviation:\",np.std(arr))\n",
    "print(\"Maximum:\",np.max(arr))\n",
    "print(\"Minimum:\",np.min(arr))\n"
   ]
  },
  {
   "cell_type": "code",
   "execution_count": 22,
   "id": "ef843f96-85f7-48cb-bb59-2d2586222731",
   "metadata": {},
   "outputs": [
    {
     "data": {
      "text/plain": [
       "array([[1, 2, 3],\n",
       "       [4, 5, 6]])"
      ]
     },
     "execution_count": 22,
     "metadata": {},
     "output_type": "execute_result"
    }
   ],
   "source": [
    "#RESHAPING ARRAYS\n",
    "arr1= np.array([1,2,3,4,5,6])\n",
    "reshaped = arr1.reshape(2,3)\n",
    "reshaped"
   ]
  },
  {
   "cell_type": "code",
   "execution_count": 23,
   "id": "a0dc9547-0df6-40dc-98f6-a9849136caf0",
   "metadata": {},
   "outputs": [
    {
     "name": "stdout",
     "output_type": "stream",
     "text": [
      "[[1 2 3 4]\n",
      " [5 6 7 8]]\n",
      "[1 2 3 4 5 6 7 8]\n",
      "[array([1]), array([2]), array([3])]\n"
     ]
    }
   ],
   "source": [
    "#STACKING AND SPLITING\n",
    "A1=np.array([1,2])\n",
    "A2=np.array([3,4])\n",
    "\n",
    "#vertical stack\n",
    "print(np.vstack((a,b)))\n",
    "#horizontal stack\n",
    "print(np.hstack((a,b)))\n",
    "\n",
    "#splitting\n",
    "\n",
    "arra=np.array([1,2,3,4,5,6])\n",
    "#split into 3 parts\n",
    "print(np.array_split(arr,3))\n"
   ]
  },
  {
   "cell_type": "code",
   "execution_count": 24,
   "id": "ce14afa7-4ed0-4da7-b6dd-226e97f6eb1e",
   "metadata": {},
   "outputs": [
    {
     "name": "stdout",
     "output_type": "stream",
     "text": [
      "[10  2  3]\n",
      "[20  2  3]\n"
     ]
    }
   ],
   "source": [
    "#copy and view\n",
    "#view share memory\n",
    "ar1=np.array([1,2,3])\n",
    "view=ar1.view()\n",
    "view[0]=10\n",
    "print(ar1)\n",
    "\n",
    "#copy doesnot share memory\n",
    "copy=ar1.copy()\n",
    "copy[0]=20\n",
    "print(copy)\n"
   ]
  },
  {
   "cell_type": "code",
   "execution_count": 48,
   "id": "62541432-1189-41ec-ad67-fea3732d6ef6",
   "metadata": {},
   "outputs": [
    {
     "name": "stdout",
     "output_type": "stream",
     "text": [
      "[10 20 30 40 50]\n",
      "[[0.20212541 0.07933892 0.23239022]\n",
      " [0.80565501 0.88928367 0.96211896]\n",
      " [0.04494321 0.29090536 0.62216717]]\n",
      "Shape :  (2, 4)\n",
      "Size :  8\n",
      "Data type: int32\n",
      "Number of dimensions :  2\n",
      "[[ 1  2  3  4  5]\n",
      " [ 6  7  8  9 10]\n",
      " [11 12 13 14 15]\n",
      " [16 17 18 19 20]\n",
      " [21 22 23 24 25]]\n",
      "[[1 2 3 4 5]]\n",
      "[[21 22 23 24 25]]\n",
      "[[ 1  2]\n",
      " [ 6  7]\n",
      " [11 12]]\n",
      "98\n",
      "11\n",
      "54.8\n",
      "27.249954128401757\n",
      "[[ 1  2  3  4]\n",
      " [ 5  6  7  8]\n",
      " [ 9 10 11 12]]\n",
      "[[ 2  4  6]\n",
      " [ 7  9 11]\n",
      " [12 14 16]]\n",
      "5 10 15 20 25 35 45 [[19 22]\n",
      " [43 50]]\n",
      "1\n",
      "7\n",
      "13\n",
      "19\n"
     ]
    }
   ],
   "source": [
    "#TASKS\n",
    "\n",
    "#1.ARRAY CREATION.create a 1D array of numbers from 10 to 50.create a 3*3 array of random numbers between 0 and 1\n",
    "array=np.array([10,20,30,40,50])\n",
    "print(array)\n",
    "array1=np.random.random((3,3))\n",
    "print(array1)\n",
    "\n",
    "#2ARRAY ATTRIBUTES .find the shape ,size,and datatype of the array you created in the perious task\n",
    "array2=np.array([[1,2,3,4],[5,6,7,8]])\n",
    "print(\"Shape : \",array2.shape)#rows and col\n",
    "print(\"Size : \",array2.size)#no of elements\n",
    "print(\"Data type:\", array2.dtype)#define datatype\n",
    "print(\"Number of dimensions : \",array2.ndim)#dimensions\n",
    "\n",
    "#3BASIC OPERATIONS.add 5 to every element of a 1d array.multiply two 2 D array element wise\n",
    "array2=array2+5\n",
    "array2\n",
    "\n",
    "\n",
    "mat1=np.array([[1,2],[3,4]])\n",
    "mat2=np.array([[5,6],[7,8]])\n",
    "result= np.dot(mat1,mat2)\n",
    "result\n",
    "\n",
    "\n",
    "#4 INDEXING ANS SLICING.create a 5*5 array integers from 1 to 25\n",
    "#.extract.the first row\n",
    "#.the last column\n",
    "#.a subarray of the three rows and first two column\n",
    "a11=np.array([[1,2,3,4,5],[6,7,8,9,10],[11,12,13,14,15],[16,17,18,19,20],[21,22,23,24,25]])\n",
    "print(a11)\n",
    "print(a11[:1])\n",
    "print(a11[4:])\n",
    "print(a11[:3,:2])\n",
    "\n",
    "#5.AGGREGARATION\n",
    "#. CREATE a 10 elements array of random integers between 1 and 100.find\n",
    "#.the max value\n",
    "#.the min value\n",
    "#.the mean and standard deviation\n",
    "a12=np.array([11,21,31,41,51,61,71,81,82,98])\n",
    "print(max(a12))\n",
    "print(min(a12))\n",
    "print(np.mean(a12))\n",
    "print(np.std(a12))\n",
    "\n",
    "#6.reshapping.covert a 1d array of numbers from 1 to 12 into a 3*4 matirx\n",
    "a13=np.array([1,2,3,4,5,6,7,8,9,10,11,12])\n",
    "a14=a13.reshape(3,4)\n",
    "print(a14)\n",
    "\n",
    "#7.BOARDCASTING\n",
    "#.create a 3*3 matrix ones.add 1d array[1,2,3] to each row\n",
    "a15=np.array([[1,2,3],[6,7,8],[11,12,13]])\n",
    "a16=np.array([1,2,3])\n",
    "print(a15+a16)\n",
    "#8.FILTERING\n",
    "#.create a 1D array of random integers between 1 and 50 ,extract all elemnts that are divisible by 5\n",
    "a17=np.array([1,4,5,7,9,10,15,19,20,25,35,45])\n",
    "for i in range (len(a17)):\n",
    "    if a17[i]%5==0:\n",
    "        print(a17[i],end = \" \")\n",
    "\n",
    "#9.MATRIX MULTIPLICATION.CREATE two 2*2 matrices and perform matix multiplication\n",
    "mat1=np.array([[1,2],[3,4]])\n",
    "mat2=np.array([[5,6],[7,8]])\n",
    "result= np.dot(mat1,mat2)\n",
    "print(result)\n",
    "\n",
    "#10.ADVANCE INDEXING\n",
    "#.GIVEN a 4*4 array,use fancy indexing to extract the diagonal elements\n",
    "a18=np.array([[1,2,3,4],[6,7,8,9],[11,12,13,14],[16,17,18,19]])\n",
    "for i in range (4):\n",
    "    for j in range (4):\n",
    "        if a18[i][j] == a18[j][i]:\n",
    "            print(a18[i][j])\n",
    "                \n"
   ]
  },
  {
   "cell_type": "code",
   "execution_count": null,
   "id": "062cd6f7-f6af-4d47-bd7a-53e0775ca482",
   "metadata": {},
   "outputs": [],
   "source": []
  },
  {
   "cell_type": "code",
   "execution_count": null,
   "id": "ebe90dce-f768-4307-b320-f3d2decb7289",
   "metadata": {},
   "outputs": [],
   "source": []
  }
 ],
 "metadata": {
  "kernelspec": {
   "display_name": "Python 3 (ipykernel)",
   "language": "python",
   "name": "python3"
  },
  "language_info": {
   "codemirror_mode": {
    "name": "ipython",
    "version": 3
   },
   "file_extension": ".py",
   "mimetype": "text/x-python",
   "name": "python",
   "nbconvert_exporter": "python",
   "pygments_lexer": "ipython3",
   "version": "3.12.4"
  }
 },
 "nbformat": 4,
 "nbformat_minor": 5
}
